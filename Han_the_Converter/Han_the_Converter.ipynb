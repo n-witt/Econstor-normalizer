{
 "cells": [
  {
   "cell_type": "markdown",
   "metadata": {},
   "source": [
    "# Han the Converter\n",
    "\n",
    "Based on the file structure created by _Luke the Downloader_, _Han the Coverter_ extracts the plaintext from the PDF files in the `data/pdf` subdirectory and writes that text into the `plaintext` attribute of the corresponding JSON file. Moreover, does it [_guess_](https://pypi.python.org/pypi/langdetect/1.0.1) the language of the document and adds this information as well under the `lang` attribute.\n",
    "\n",
    "## Time, multiprocessing and ressources\n",
    "\n",
    "Plaintext extraction is a computationally-intensive task (20-30 seconds for a 10-pages document is a realistic estimate). Therefore, multiprocessing is used in this script, as it allows extracting text from multiple documents simultaneously. Your machine should also have ~500MB of RAM per CPU core (e.g. ~4GB for an [Intel Core i7 4770K](http://ark.intel.com/de/products/75123/Intel-Core-i7-4770K-Processor-8M-Cache-up-to-3_90-GHz))\n",
    "\n",
    "## Checkpoint and progress\n",
    "\n",
    "You can easily interrupt the processing whenever you want. The script writes a checkpoint file every 30 seconds that allows it to resume calulations. Therefore, restarting the script will do the trick.\n",
    "\n",
    "## Data quality, format and filtering\n",
    "\n",
    "The data is Unicode-encoded using UTF-8. Extracting plaintext from PDF files is not a straighforward process. Encoding problems, password-protected files, a large variety of text formatting are only a few of the potential problems. To mitigate some of these problems a filter module (`processingPdfFiles/filter.py`) is used to correct some of the common errors. You should adapt this module to your own needs. Nevertheless, _some_ noise in the data is inevitable."
   ]
  },
  {
   "cell_type": "code",
   "execution_count": null,
   "metadata": {
    "collapsed": false
   },
   "outputs": [],
   "source": [
    "import multiprocessing as mp\n",
    "import os\n",
    "import logging\n",
    "from processingPdfFiles.processingPdfFiles import ProcessWorker\n",
    "from journalHandler import journalHandler\n",
    "import time\n",
    "\n",
    "if __name__ == \"__main__\":\n",
    "    \n",
    "    logging.getLogger().setLevel(logging.INFO)\n",
    "    numProcesses = mp.cpu_count()\n",
    "    dataDir = '../data'\n",
    "    workingDir = dataDir + os.sep + 'pdf'\n",
    "    outputDir = dataDir + os.sep + 'json'\n",
    "    fileExtension = u'.json'\n",
    "    processes = []\n",
    "    pendingQ = mp.Queue()\n",
    "    updateQ = mp.Queue()\n",
    "    waitForResume = mp.Queue()\n",
    "    \n",
    "    # the time in seconds before a worker thread is being killed\n",
    "    timeout = 600.0\n",
    "\n",
    "    # start errorHandling process    \n",
    "    ep = mp.Process(target=journalHandler, args=(pendingQ, updateQ, waitForResume, workingDir, logging, dataDir))\n",
    "    ep.start()\n",
    "    \n",
    "    # block until journalHandler has initialized the 'pending' list\n",
    "    waitForResume.get()\n",
    "    \n",
    "    numFiles = pendingQ.qsize()\n",
    "    while not pendingQ.empty():\n",
    "        if len(processes) <= numProcesses:\n",
    "            filename = pendingQ.get()\n",
    "            pw = ProcessWorker(filename, workingDir, outputDir, logging, updateQ, fileExtension)\n",
    "            p = mp.Process(target=pw.process_data, args=())\n",
    "            p.start()\n",
    "            processes.append((p, time.time(), filename))\n",
    "        else:\n",
    "            time.sleep(1)\n",
    "            for process in processes:\n",
    "                if process[0].is_alive():\n",
    "                    now = time.time()\n",
    "                    if now - process[1] > timeout:\n",
    "                        process[0].terminate()\n",
    "                        processes.remove(process)\n",
    "                        errString = u'{} ran into timeout'.format(process[2])\n",
    "                        logging.info(errString)\n",
    "                        updateQ.put(('broken', process[2], errString))\n",
    "                else:\n",
    "                    processes.remove(process)\n",
    "    logging.info('Done')"
   ]
  }
 ],
 "metadata": {
  "kernelspec": {
   "display_name": "Python 2",
   "language": "python",
   "name": "python2"
  },
  "language_info": {
   "codemirror_mode": {
    "name": "ipython",
    "version": 2
   },
   "file_extension": ".py",
   "mimetype": "text/x-python",
   "name": "python",
   "nbconvert_exporter": "python",
   "pygments_lexer": "ipython2",
   "version": "2.7.10"
  }
 },
 "nbformat": 4,
 "nbformat_minor": 0
}
